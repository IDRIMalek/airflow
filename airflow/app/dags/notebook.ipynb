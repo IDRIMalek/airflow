{
 "cells": [
  {
   "cell_type": "code",
   "execution_count": null,
   "metadata": {},
   "outputs": [],
   "source": [
    "{\"coord\":{\"lon\":-120.5015,\"lat\":47.5001},\"weather\":[{\"id\":803,\"main\":\"Clouds\",\"description\":\"broken clouds\",\"icon\":\"04n\"}],\"base\":\"stations\",\"main\":{\"temp\":263.02,\"feels_like\":260.2,\"temp_min\":259.29,\"temp_max\":265.23,\"pressure\":1018,\"humidity\":81,\"sea_level\":1018,\"grnd_level\":955},\"visibility\":10000,\"wind\":{\"speed\":1.34,\"deg\":288,\"gust\":1.22},\"clouds\":{\"all\":71},\"dt\":1641309277,\"sys\":{\"type\":2,\"id\":2003593,\"country\":\"US\",\"sunrise\":1641311369,\"sunset\":1641342253},\"timezone\":-28800,\"id\":5815135,\"name\":\"Washington\",\"cod\":200}"
   ]
  }
 ],
 "metadata": {
  "language_info": {
   "name": "python"
  },
  "orig_nbformat": 4
 },
 "nbformat": 4,
 "nbformat_minor": 2
}
